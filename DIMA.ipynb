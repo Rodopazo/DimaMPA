{
  "cells": [
    {
      "cell_type": "markdown",
      "metadata": {},
      "source": [
        "# DIMA \u2014 Diccionario Inteligente de Magia para Atrevidos\n",
        "\u00a1Bienvenid@, atrevid@!\n",
        "\n",
        "Has activado el DIMA. Este no es un simple diccionario, sino un sistema de transmutaci\u00f3n sem\u00e1ntica con acceso directo a la vibraci\u00f3n profunda de las palabras.\n",
        "\n",
        "**Evigila. Lude. Transmuta.**"
      ]
    },
    {
      "cell_type": "code",
      "execution_count": null,
      "metadata": {},
      "outputs": [],
      "source": [
        "import ipywidgets as widgets\n",
        "from IPython.display import display, Markdown, clear_output\n",
        "\n",
        "# Simulaci\u00f3n de un diccionario JSON simple\n",
        "diccionario = {\n",
        "    \"trabajo\": {\n",
        "        \"etimologia\": [\n",
        "            {\"raiz\": \"tripalium\", \"significado\": \"instrumento de tortura de tres palos\"},\n",
        "            {\"raiz\": \"tri\", \"significado\": \"tres\"},\n",
        "            {\"raiz\": \"palus\", \"significado\": \"palo\"}\n",
        "        ],\n",
        "        \"vibracion\": \"baja\",\n",
        "        \"alternativas\": [\n",
        "            {\"palabra\": \"obra\", \"etimologia\": \"opera\", \"significado\": \"acci\u00f3n realizada con direcci\u00f3n y alma\"},\n",
        "            {\"palabra\": \"actividad\", \"etimologia\": \"activitas\", \"significado\": \"energ\u00eda en movimiento\"},\n",
        "            {\"palabra\": \"juego\", \"etimologia\": \"jocus\", \"significado\": \"acto l\u00fadico y libre\"}\n",
        "        ]\n",
        "    }\n",
        "}\n",
        "\n",
        "tipo_consulta = widgets.ToggleButtons(\n",
        "    options=['Consulta de concepto', 'Consulta directa de palabra'],\n",
        "    description='Tipo:',\n",
        "    style={'description_width': 'initial'}\n",
        ")\n",
        "\n",
        "input_palabra = widgets.Text(\n",
        "    value='',\n",
        "    placeholder='Escrib\u00ed tu palabra...',\n",
        "    description='Palabra:',\n",
        "    style={'description_width': 'initial'},\n",
        "    layout=widgets.Layout(width='50%')\n",
        ")\n",
        "\n",
        "boton_enviar = widgets.Button(description='Consultar palabra')\n",
        "salida = widgets.Output()\n",
        "\n",
        "def mostrar_consulta(palabra):\n",
        "    datos = diccionario.get(palabra.lower())\n",
        "    if not datos:\n",
        "        display(Markdown(\"**La palabra no fue encontrada en el DIMA.**\"))\n",
        "        return\n",
        "    display(Markdown(f\"### Palabra consultada: *{palabra}*\"))\n",
        "    display(Markdown(\"**Etimolog\u00eda:**\"))\n",
        "    for item in datos['etimologia']:\n",
        "        display(Markdown(f\"- **{item['raiz']}**: {item['significado']}\"))\n",
        "    display(Markdown(f\"\\n**Vibraci\u00f3n energ\u00e9tica detectada:** `{datos['vibracion'].upper()}`\"))\n",
        "    display(Markdown(\"\\n**Alternativas sugeridas:**\"))\n",
        "    for alt in datos['alternativas']:\n",
        "        display(Markdown(f\"- **{alt['palabra'].capitalize()}** *(etimolog\u00eda: {alt['etimologia']})*: {alt['significado']}\"))\n",
        "    display(Markdown(\"\\n_\u201cNo repitas sin pensar. Cada palabra es una llave. Algunas abren c\u00e1rceles. Otras, portales.\u201d_\"))\n",
        "\n",
        "def cuando_consulta(b):\n",
        "    salida.clear_output()\n",
        "    with salida:\n",
        "        clear_output()\n",
        "        mostrar_consulta(input_palabra.value)\n",
        "\n",
        "boton_enviar.on_click(cuando_consulta)\n",
        "\n",
        "display(tipo_consulta, input_palabra, boton_enviar, salida)"
      ]
    }
  ],
  "metadata": {
    "kernelspec": {
      "display_name": "Python 3",
      "language": "python",
      "name": "python3"
    },
    "language_info": {
      "name": "python",
      "version": "3.8"
    }
  },
  "nbformat": 4,
  "nbformat_minor": 5
}